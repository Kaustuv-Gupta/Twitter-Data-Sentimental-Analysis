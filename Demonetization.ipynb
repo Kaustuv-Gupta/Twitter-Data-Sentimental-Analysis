{
 "cells": [
  {
   "cell_type": "code",
   "execution_count": 1,
   "metadata": {},
   "outputs": [],
   "source": [
    "import os\n",
    "from os import path\n",
    "import re \n",
    "import tweepy\n",
    "from textblob import TextBlob\n",
    "import csv"
   ]
  },
  {
   "cell_type": "code",
   "execution_count": 2,
   "metadata": {},
   "outputs": [],
   "source": [
    "import pandas as pd\n",
    "import matplotlib.pyplot as plt"
   ]
  },
  {
   "cell_type": "markdown",
   "metadata": {},
   "source": [
    "# Twitter account details "
   ]
  },
  {
   "cell_type": "code",
   "execution_count": 3,
   "metadata": {},
   "outputs": [],
   "source": [
    "consumerKey = '******************************'\n",
    "consumerSecret = '*******************************************'\n",
    "accessToken = '*********************************************'\n",
    "accessTokenSecret = '***************************************'"
   ]
  },
  {
   "cell_type": "markdown",
   "metadata": {},
   "source": [
    "# Connecting to Twitter API"
   ]
  },
  {
   "cell_type": "code",
   "execution_count": 4,
   "metadata": {},
   "outputs": [],
   "source": [
    "try: \n",
    "    auth = tweepy.OAuthHandler(consumerKey, consumerSecret)\n",
    "    auth.set_access_token(accessToken, accessTokenSecret)\n",
    "    api = tweepy.API(auth)\n",
    "except: \n",
    "    print(\"Error: Authentication Failed\")"
   ]
  },
  {
   "cell_type": "markdown",
   "metadata": {},
   "source": [
    "# Type of tweet to be searched & no of tweets "
   ]
  },
  {
   "cell_type": "code",
   "execution_count": 5,
   "metadata": {},
   "outputs": [
    {
     "name": "stdout",
     "output_type": "stream",
     "text": [
      "Enter Keyword/Tag to search about: demonetization\n",
      "Enter how many tweets to search: 100\n"
     ]
    }
   ],
   "source": [
    "searchTerm = input(\"Enter Keyword/Tag to search about: \")\n",
    "NoOfTerms = int(input(\"Enter how many tweets to search: \"))"
   ]
  },
  {
   "cell_type": "code",
   "execution_count": 6,
   "metadata": {},
   "outputs": [],
   "source": [
    "# searching for tweets\n",
    "tweets = tweepy.Cursor(api.search, q=searchTerm, lang = \"en\").items(NoOfTerms)"
   ]
  },
  {
   "cell_type": "markdown",
   "metadata": {},
   "source": [
    "# Data filtering "
   ]
  },
  {
   "cell_type": "code",
   "execution_count": 7,
   "metadata": {},
   "outputs": [],
   "source": [
    "def cleanTweet(tweet):\n",
    "    # Remove Links, Special Characters etc from tweet\n",
    "    return ' '.join(re.sub(\"(@[A-Za-z0-9]+)|([^0-9A-Za-z \\t]) | (\\w +:\\ / \\ / \\S +)\", \" \", tweet).split())"
   ]
  },
  {
   "cell_type": "markdown",
   "metadata": {},
   "source": [
    "# Percentage calculation"
   ]
  },
  {
   "cell_type": "code",
   "execution_count": 8,
   "metadata": {},
   "outputs": [],
   "source": [
    "def percentage(part, whole):\n",
    "    temp = 100 * float(part) / float(whole)\n",
    "    return format(temp, '.2f')"
   ]
  },
  {
   "cell_type": "markdown",
   "metadata": {},
   "source": [
    "# .csv file create "
   ]
  },
  {
   "cell_type": "code",
   "execution_count": 9,
   "metadata": {},
   "outputs": [],
   "source": [
    "if path.isdir(\"Dataset\")==False:\n",
    "    os.mkdir('Dataset')"
   ]
  },
  {
   "cell_type": "code",
   "execution_count": 10,
   "metadata": {},
   "outputs": [],
   "source": [
    "flag=0\n",
    "files=os.listdir('Dataset')\n",
    "if 'output.csv' in files:\n",
    "    flag=1\n",
    "csvfile=open('Dataset\\\\output.csv', 'a', newline='')\n",
    "fieldnames = ['text', 'polarity','searchKey']\n",
    "writer = csv.DictWriter(csvfile, fieldnames=fieldnames)\n",
    "if flag==0:\n",
    "    writer.writeheader()"
   ]
  },
  {
   "cell_type": "markdown",
   "metadata": {},
   "source": [
    "# Sentiment Calculation"
   ]
  },
  {
   "cell_type": "markdown",
   "metadata": {},
   "source": [
    "Weakly positive  >0 & <=0.3  ,  Positive  >0.3 & <=0.6  ,  Strongly positive  >0.6 & <=1"
   ]
  },
  {
   "cell_type": "markdown",
   "metadata": {},
   "source": [
    "Weakly negative  < 0 & >= -0.3  ,  Negative  < -0.3 & >= -0.6  ,  Strongly negetive  < -0.6 & >= -1"
   ]
  },
  {
   "cell_type": "code",
   "execution_count": 11,
   "metadata": {},
   "outputs": [],
   "source": [
    "(polarity,positive,wpositive,spositive,negative,wnegative,snegative,neutral) = (0,0,0,0,0,0,0,0)"
   ]
  },
  {
   "cell_type": "code",
   "execution_count": 12,
   "metadata": {},
   "outputs": [],
   "source": [
    "for tweet in tweets:\n",
    "    tweetText=cleanTweet(tweet.text).encode('utf-8')\n",
    "    analysis = TextBlob(tweet.text)\n",
    "    polarity += analysis.sentiment.polarity  # adding up polarities to find the average later\n",
    "\n",
    "    if (analysis.sentiment.polarity == 0):  # adding reaction of how people are reacting to find average later\n",
    "        neutral += 1\n",
    "    elif (analysis.sentiment.polarity > 0 and analysis.sentiment.polarity <= 0.3):\n",
    "        wpositive += 1\n",
    "    elif (analysis.sentiment.polarity > 0.3 and analysis.sentiment.polarity <= 0.6):\n",
    "        positive += 1\n",
    "    elif (analysis.sentiment.polarity > 0.6 and analysis.sentiment.polarity <= 1):\n",
    "        spositive += 1\n",
    "    elif (analysis.sentiment.polarity >= -0.3 and analysis.sentiment.polarity < 0):\n",
    "        wnegative += 1\n",
    "    elif (analysis.sentiment.polarity >= -0.6 and analysis.sentiment.polarity < -0.3):\n",
    "        negative += 1\n",
    "    elif (analysis.sentiment.polarity >= -1 and analysis.sentiment.polarity < -0.6):\n",
    "        snegative += 1\n",
    "    \n",
    "    writer.writerow({'text':tweetText, 'polarity': analysis.sentiment.polarity,'searchKey':searchTerm})\n",
    "\n",
    "csvfile.close()"
   ]
  },
  {
   "cell_type": "code",
   "execution_count": 13,
   "metadata": {},
   "outputs": [],
   "source": [
    "polarity= polarity / NoOfTerms\n",
    "(positive,wpositive,spositive) = (percentage(positive, NoOfTerms),percentage(wpositive, NoOfTerms),percentage(spositive, NoOfTerms))\n",
    "(negative,wnegative,snegative) = (percentage(negative, NoOfTerms),percentage(wnegative, NoOfTerms),percentage(snegative, NoOfTerms))\n",
    "neutral = percentage(neutral, NoOfTerms)"
   ]
  },
  {
   "cell_type": "markdown",
   "metadata": {},
   "source": [
    "# Output csv file"
   ]
  },
  {
   "cell_type": "code",
   "execution_count": 14,
   "metadata": {},
   "outputs": [],
   "source": [
    "df=pd.read_csv('Dataset\\\\output.csv')"
   ]
  },
  {
   "cell_type": "code",
   "execution_count": 15,
   "metadata": {},
   "outputs": [
    {
     "data": {
      "text/html": [
       "<div>\n",
       "<style scoped>\n",
       "    .dataframe tbody tr th:only-of-type {\n",
       "        vertical-align: middle;\n",
       "    }\n",
       "\n",
       "    .dataframe tbody tr th {\n",
       "        vertical-align: top;\n",
       "    }\n",
       "\n",
       "    .dataframe thead th {\n",
       "        text-align: right;\n",
       "    }\n",
       "</style>\n",
       "<table border=\"1\" class=\"dataframe\">\n",
       "  <thead>\n",
       "    <tr style=\"text-align: right;\">\n",
       "      <th></th>\n",
       "      <th>text</th>\n",
       "      <th>polarity</th>\n",
       "    </tr>\n",
       "  </thead>\n",
       "  <tbody>\n",
       "    <tr>\n",
       "      <th>0</th>\n",
       "      <td>b'You should watch this video about sudden wav...</td>\n",
       "      <td>0.00</td>\n",
       "    </tr>\n",
       "    <tr>\n",
       "      <th>1</th>\n",
       "      <td>b\"RT I was sent a video of HDFC Bank MD praisi...</td>\n",
       "      <td>0.20</td>\n",
       "    </tr>\n",
       "    <tr>\n",
       "      <th>2</th>\n",
       "      <td>b'gus normal youtube video water demonetization'</td>\n",
       "      <td>0.15</td>\n",
       "    </tr>\n",
       "    <tr>\n",
       "      <th>3</th>\n",
       "      <td>b'RT In one swipe the issues of stray cattle f...</td>\n",
       "      <td>0.00</td>\n",
       "    </tr>\n",
       "    <tr>\n",
       "      <th>4</th>\n",
       "      <td>b\"RT I was sent a video of HDFC Bank MD praisi...</td>\n",
       "      <td>0.20</td>\n",
       "    </tr>\n",
       "  </tbody>\n",
       "</table>\n",
       "</div>"
      ],
      "text/plain": [
       "                                                text  polarity\n",
       "0  b'You should watch this video about sudden wav...      0.00\n",
       "1  b\"RT I was sent a video of HDFC Bank MD praisi...      0.20\n",
       "2   b'gus normal youtube video water demonetization'      0.15\n",
       "3  b'RT In one swipe the issues of stray cattle f...      0.00\n",
       "4  b\"RT I was sent a video of HDFC Bank MD praisi...      0.20"
      ]
     },
     "execution_count": 15,
     "metadata": {},
     "output_type": "execute_result"
    }
   ],
   "source": [
    "df[df['searchKey']==searchTerm][['text','polarity']].head(5)"
   ]
  },
  {
   "cell_type": "markdown",
   "metadata": {},
   "source": [
    "# Summary"
   ]
  },
  {
   "cell_type": "code",
   "execution_count": 16,
   "metadata": {},
   "outputs": [
    {
     "name": "stdout",
     "output_type": "stream",
     "text": [
      "3.00% people thought it was positive\n",
      "38.00% people thought it was weakly positive\n",
      "2.00% people thought it was strongly positive\n",
      "6.00% people thought it was negative\n",
      "20.00% people thought it was weakly negative\n",
      "1.00% people thought it was strongly negative\n",
      "30.00% people thought it was neutral\n"
     ]
    }
   ],
   "source": [
    "print(str(positive) + \"% people thought it was positive\")\n",
    "print(str(wpositive) + \"% people thought it was weakly positive\")\n",
    "print(str(spositive) + \"% people thought it was strongly positive\")\n",
    "print(str(negative) + \"% people thought it was negative\")\n",
    "print(str(wnegative) + \"% people thought it was weakly negative\")\n",
    "print(str(snegative) + \"% people thought it was strongly negative\")\n",
    "print(str(neutral) + \"% people thought it was neutral\")"
   ]
  },
  {
   "cell_type": "markdown",
   "metadata": {},
   "source": [
    "# Conclusion"
   ]
  },
  {
   "cell_type": "code",
   "execution_count": 17,
   "metadata": {},
   "outputs": [
    {
     "name": "stdout",
     "output_type": "stream",
     "text": [
      "**********  Weakly Positive  Result  **********\n"
     ]
    }
   ],
   "source": [
    "if (polarity == 0):\n",
    "    print(\"**********  Neutral Result  **********\")\n",
    "elif (polarity > 0 and polarity <= 0.3):\n",
    "    print(\"**********  Weakly Positive  Result  **********\")\n",
    "elif (polarity > 0.3 and polarity <= 0.6):\n",
    "    print(\"**********  Positive Result  **********\")\n",
    "elif (polarity > 0.6 and polarity <= 1):\n",
    "    print(\"**********  Strongly Positive Result  **********\")\n",
    "elif (polarity > -0.3 and polarity <= 0):\n",
    "    print(\"**********  Weakly Negative Result  **********\")\n",
    "elif (polarity > -0.6 and polarity <= -0.3):\n",
    "    print(\"**********  Negative Result **********\")\n",
    "elif (polarity > -1 and polarity <= -0.6):\n",
    "    print(\"**********  Strongly Negative Result  **********\")"
   ]
  },
  {
   "cell_type": "markdown",
   "metadata": {},
   "source": [
    "# Pie Chart"
   ]
  },
  {
   "cell_type": "code",
   "execution_count": 18,
   "metadata": {},
   "outputs": [
    {
     "data": {
      "image/png": "[encoded data removed]",
      "text/plain": [
       "<Figure size 432x288 with 1 Axes>"
      ]
     },
     "metadata": {},
     "output_type": "display_data"
    }
   ],
   "source": [
    "labels = ['Positive [' + str(positive) + '%]', 'Weakly Positive [' + str(wpositive) + '%]','Strongly Positive [' + str(spositive) + '%]', 'Neutral [' + str(neutral) + '%]','Negative [' + str(negative) + '%]', 'Weakly Negative [' + str(wnegative) + '%]', 'Strongly Negative [' + str(snegative) + '%]']\n",
    "sizes = [positive, wpositive, spositive, neutral, negative, wnegative, snegative]\n",
    "colors = ['yellowgreen','lightgreen','darkgreen', 'gold', 'red','lightsalmon','darkred']\n",
    "patches, texts = plt.pie(sizes, colors=colors, startangle=90)\n",
    "plt.legend(patches, labels, loc=\"best\")\n",
    "plt.title('How people are reacting on \" ' + searchTerm + ' \" by analyzing ' + str(NoOfTerms) + ' Tweets.')\n",
    "plt.axis('equal')\n",
    "plt.tight_layout()\n",
    "plt.show()"
   ]
  },
  {
   "cell_type": "code",
   "execution_count": null,
   "metadata": {},
   "outputs": [],
   "source": []
  }
 ],
 "metadata": {
  "kernelspec": {
   "display_name": "Python 3",
   "language": "python",
   "name": "python3"
  },
  "language_info": {
   "codemirror_mode": {
    "name": "ipython",
    "version": 3
   },
   "file_extension": ".py",
   "mimetype": "text/x-python",
   "name": "python",
   "nbconvert_exporter": "python",
   "pygments_lexer": "ipython3",
   "version": "3.7.0"
  }
 },
 "nbformat": 4,
 "nbformat_minor": 2
}
